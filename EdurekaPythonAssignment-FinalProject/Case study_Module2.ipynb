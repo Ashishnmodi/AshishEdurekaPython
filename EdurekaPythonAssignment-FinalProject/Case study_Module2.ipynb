{
 "cells": [
  {
   "cell_type": "code",
   "execution_count": null,
   "metadata": {},
   "outputs": [],
   "source": [
    "#1\n",
    "d ={\"john\":40, \"peter\":45}\n",
    "print(list(d.keys()))"
   ]
  },
  {
   "cell_type": "code",
   "execution_count": null,
   "metadata": {},
   "outputs": [],
   "source": [
    "#2\n",
    "nums =set([1,1,2,3,3,3,4,4])\n",
    "print(len(nums))"
   ]
  },
  {
   "cell_type": "code",
   "execution_count": 38,
   "metadata": {},
   "outputs": [
    {
     "name": "stdout",
     "output_type": "stream",
     "text": [
      "Welcome to out Website\n",
      "You are a New User so please register\n",
      "Enter the Username:Ashish\n",
      "Your Password should contain atleast\n",
      "1 Uppercase letter(A-Z)\n",
      "1 Lowercase letter(a-z)\n",
      "1 Numeric digit(0-9)\n",
      "1 Charater from(@#$)\n",
      "Enter the password:Ashish123\n",
      "Password is not following the Criteria\n",
      "Please try again\n",
      "Your Password should contain atleast\n",
      "1 Uppercase letter(A-Z)\n",
      "1 Lowercase letter(a-z)\n",
      "1 Numeric digit(0-9)\n",
      "1 Charater from(@#$)\n",
      "Enter the password:Ashish@123\n",
      "Password is Valid & Accepted as per policy\n",
      "Thank you for registering with us\n",
      "Good Bye\n",
      "Have a Wonderful time ahead\n"
     ]
    }
   ],
   "source": [
    "#3\n",
    "q='$'\n",
    "r='#'\n",
    "s='@'\n",
    "u=input('Welcome to out Website\\nYou are a New User so please register\\nEnter the Username:')\n",
    "while True:    \n",
    "    print('Your Password should contain atleast\\n1 Uppercase letter(A-Z)\\n1 Lowercase letter(a-z)\\n1 Numeric digit(0-9)\\n1 Charater from(@#$)')\n",
    "    p=input('Enter the password:')\n",
    "    if len(p)>=6 and len(p)<=12:\n",
    "        if p.lower()!=p and p.upper()!=p:\n",
    "            if q in list(p) or r in list(p) or s in list(p):\n",
    "                b=list(p)\n",
    "                c=[i for i in b if i in ['1','2','3','4','5','6','7','8','9','0']]\n",
    "                d=''.join(c)\n",
    "                if d.isnumeric()==True:\n",
    "                    print('Password is Valid & Accepted as per policy\\nThank you for registering with us')\n",
    "                    break\n",
    "                else:\n",
    "                    print('Password is not following the Criteria\\nPlease try again')\n",
    "                    continue\n",
    "            else:\n",
    "                print('Password is not following the Criteria\\nPlease try again')\n",
    "                continue\n",
    "        else:\n",
    "            print('Password is not following the Criteria\\nPlease try again')\n",
    "            continue\n",
    "    else:\n",
    "        print('Password is not following the Criteria\\nPlease try again')\n",
    "        continue\n",
    "print('Good Bye\\nHave a Wonderful time ahead')"
   ]
  },
  {
   "cell_type": "code",
   "execution_count": 70,
   "metadata": {},
   "outputs": [
    {
     "name": "stdout",
     "output_type": "stream",
     "text": [
      "Element: 4 and Index: 0\n",
      "Element: 7 and Index: 1\n",
      "Element: 3 and Index: 2\n",
      "Element: 2 and Index: 3\n",
      "Element: 5 and Index: 4\n",
      "Element: 9 and Index: 5\n",
      "Thank you\n"
     ]
    }
   ],
   "source": [
    "#4\n",
    "l=[4,7,3,2,5,9]\n",
    "for elem in l:\n",
    "    print('Element: %s and Index: %s' %(elem,l.index(elem)))\n",
    "    #print('Index:',l.index(elem))\n",
    "print('Thank you')"
   ]
  },
  {
   "cell_type": "code",
   "execution_count": 74,
   "metadata": {},
   "outputs": [
    {
     "name": "stdout",
     "output_type": "stream",
     "text": [
      "Enter the Input String:H1e2l3l4o5w6o7r8l9d\n",
      "Please find the New String with Even Number charaters as below\n",
      " Helloworld\n"
     ]
    }
   ],
   "source": [
    "#5\n",
    "s=input('Enter the Input String:')\n",
    "l=list(s)\n",
    "k=[]\n",
    "for i in range(0,len(s),2):\n",
    "    k.append(l[i])\n",
    "n=''.join(k)\n",
    "print('Please find the New String with Even Number charaters as below\\n',n)"
   ]
  },
  {
   "cell_type": "code",
   "execution_count": 76,
   "metadata": {},
   "outputs": [
    {
     "name": "stdout",
     "output_type": "stream",
     "text": [
      "Enter the Input String:rise to vote sir\n",
      "Reverse String is as below\n",
      " ris etov ot esir\n"
     ]
    }
   ],
   "source": [
    "#6\n",
    "s=input('Enter the Input String:')\n",
    "n=s[::-1]\n",
    "print('Reverse String is as below\\n',n)"
   ]
  },
  {
   "cell_type": "code",
   "execution_count": 83,
   "metadata": {},
   "outputs": [
    {
     "name": "stdout",
     "output_type": "stream",
     "text": [
      "Enter the Input String:abcdefgabc\n",
      "a,2\n",
      "b,2\n",
      "c,2\n",
      "d,1\n",
      "e,1\n",
      "f,1\n",
      "g,1\n",
      "a,2\n",
      "b,2\n",
      "c,2\n"
     ]
    }
   ],
   "source": [
    "#7\n",
    "s=input('Enter the Input String:')\n",
    "l=list(s)\n",
    "for elem in l:\n",
    "    i=l.count(elem)\n",
    "    print('%s,%s'%(elem,i)) "
   ]
  },
  {
   "cell_type": "code",
   "execution_count": 84,
   "metadata": {},
   "outputs": [
    {
     "name": "stdout",
     "output_type": "stream",
     "text": [
      "[35]\n"
     ]
    }
   ],
   "source": [
    "#8\n",
    "l1=[1,3,6,78,35,55]\n",
    "l2=[12,24,35,24,88,120,155]\n",
    "s1=set(l1)\n",
    "s2=set(l2)\n",
    "s3=s1&s2\n",
    "l3=list(s3)\n",
    "print(l3)"
   ]
  },
  {
   "cell_type": "code",
   "execution_count": 87,
   "metadata": {},
   "outputs": [
    {
     "name": "stdout",
     "output_type": "stream",
     "text": [
      "[12, 24, 35, 88, 120, 155]\n"
     ]
    }
   ],
   "source": [
    "#9\n",
    "l1=[12,24,35,24,88,120,155,88,120,155]\n",
    "s1=set(l1)\n",
    "l1=sorted(list(s1))\n",
    "print(l1)"
   ]
  },
  {
   "cell_type": "code",
   "execution_count": 88,
   "metadata": {},
   "outputs": [
    {
     "name": "stdout",
     "output_type": "stream",
     "text": [
      "[12, 35, 88, 120, 155]\n"
     ]
    }
   ],
   "source": [
    "#10\n",
    "l=[12,24,35,24,88,120,155]\n",
    "n=[i for i in l if i!=24]\n",
    "print(n)"
   ]
  },
  {
   "cell_type": "code",
   "execution_count": 90,
   "metadata": {},
   "outputs": [
    {
     "name": "stdout",
     "output_type": "stream",
     "text": [
      "[24, 35, 70, 155]\n"
     ]
    }
   ],
   "source": [
    "#11\n",
    "l=[12,24,35,70,88,120,155]\n",
    "n=[i for i in l if i!=l[0] and i!=l[4] and i!=l[5]]\n",
    "print(n)"
   ]
  },
  {
   "cell_type": "code",
   "execution_count": 93,
   "metadata": {},
   "outputs": [
    {
     "name": "stdout",
     "output_type": "stream",
     "text": [
      "[12, 24, 88, 120, 155]\n"
     ]
    }
   ],
   "source": [
    "#12\n",
    "l=[12,24,35,70,88,120,155]\n",
    "n=[i for i in l if i%5!=0 or i%7!=0]\n",
    "print(n)"
   ]
  },
  {
   "cell_type": "code",
   "execution_count": 109,
   "metadata": {},
   "outputs": [
    {
     "name": "stdout",
     "output_type": "stream",
     "text": [
      "[105, 980, 840, 175, 875]\n"
     ]
    }
   ],
   "source": [
    "#13\n",
    "l=[]\n",
    "n1=0\n",
    "import random\n",
    "while n1<5:\n",
    "    n=random.randint(1,1001)\n",
    "    if n%5==0 and n%7==0:\n",
    "        l.append(n)\n",
    "        n1+=1\n",
    "    else:\n",
    "        continue\n",
    "print(l)    "
   ]
  },
  {
   "cell_type": "code",
   "execution_count": 113,
   "metadata": {},
   "outputs": [
    {
     "name": "stdout",
     "output_type": "stream",
     "text": [
      "Enter the number:5\n",
      "3.55\n"
     ]
    }
   ],
   "source": [
    "#14\n",
    "n=int(input('Enter the number:'))\n",
    "n1=0\n",
    "for i in range(1,n+1):\n",
    "    n1=n1+(i/(i+1))\n",
    "print('%.2f'%n1)"
   ]
  },
  {
   "cell_type": "code",
   "execution_count": 128,
   "metadata": {},
   "outputs": [
    {
     "name": "stdout",
     "output_type": "stream",
     "text": [
      "Enter the 12 character alphanumeric Reference Id:Ashish123789\n",
      "Your Ref Id is encrypted as below\n",
      ": b'QXNoaXNoMTIzNzg5'\n",
      "Enter the hint:Tinu\n",
      "Thank you for trust on us, we stored your key securely\n",
      "if you want to see your Reference Id then press Y else press N:Y\n",
      "Enter the hint for verification:Tinu\n",
      "Your Entered Reference Id is: Ashish123789\n",
      "Thank you and Have a wonderful time ahead!!\n"
     ]
    }
   ],
   "source": [
    "#Case Study II\n",
    "import base64\n",
    "i=3\n",
    "while i>0:\n",
    "    n=input('Enter the 12 character alphanumeric Reference Id:')\n",
    "    if n.isalnum()==True and len(n)==12:\n",
    "        encrypt=base64.b64encode(n.encode())\n",
    "        print('Your Ref Id is encrypted as below\\n:',encrypt)\n",
    "        hint=input('Enter the hint:')\n",
    "        ans=input('Thank you for trust on us, we stored your key securely\\nif you want to see your Reference Id then press Y else press N:')\n",
    "        if ans=='Y':\n",
    "            hcheck=input('Enter the hint for verification:')\n",
    "            if hcheck==hint:\n",
    "                print('Your Entered Reference Id is:',n)\n",
    "                break\n",
    "            else:\n",
    "                print('Sorry!!You hint is not matching\\nGood bye!!')\n",
    "                break\n",
    "        else:\n",
    "            print('Thanks for visiting our website,Good Bye!!')\n",
    "            break\n",
    "    else:\n",
    "        print('Sorry you have not followed the policy\\nTry again\\n you left with %d chance'%(i-1))\n",
    "        i=i-1\n",
    "        continue\n",
    "print('Thank you and Have a wonderful time ahead!!')\n",
    "        \n",
    "        "
   ]
  }
 ],
 "metadata": {
  "kernelspec": {
   "display_name": "Python 3",
   "language": "python",
   "name": "python3"
  },
  "language_info": {
   "codemirror_mode": {
    "name": "ipython",
    "version": 3
   },
   "file_extension": ".py",
   "mimetype": "text/x-python",
   "name": "python",
   "nbconvert_exporter": "python",
   "pygments_lexer": "ipython3",
   "version": "3.7.3"
  }
 },
 "nbformat": 4,
 "nbformat_minor": 2
}
