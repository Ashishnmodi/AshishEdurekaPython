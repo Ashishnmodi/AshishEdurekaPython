{
 "cells": [
  {
   "cell_type": "code",
   "execution_count": 17,
   "metadata": {},
   "outputs": [
    {
     "name": "stdout",
     "output_type": "stream",
     "text": [
      "Enter the Number to get the Factors:9\n",
      "The factors of 9 are as below:\n",
      " [1, 3, 9]\n"
     ]
    }
   ],
   "source": [
    "#Factor Table\n",
    "factors=[]\n",
    "num=int(input('Enter the Number to get the Factors:'))\n",
    "for i in range(num):\n",
    "    if num%(i+1)==0:\n",
    "        factors.append(i+1)\n",
    "    else:\n",
    "        continue\n",
    "print('The factors of %d are as below:\\n'%num,factors)"
   ]
  },
  {
   "cell_type": "code",
   "execution_count": 16,
   "metadata": {},
   "outputs": [
    {
     "name": "stdout",
     "output_type": "stream",
     "text": [
      "How many words you want to input to sort them out:6\n",
      "Enter the 1 word:ashish\n",
      "Enter the 2 word:sejal\n",
      "Enter the 3 word:rihanshi\n",
      "Enter the 4 word:rahil\n",
      "Enter the 5 word:divya\n",
      "Enter the 6 word:pratik\n",
      "Your input is as below\n",
      " ['ashish', 'sejal', 'rihanshi', 'rahil', 'divya', 'pratik']\n",
      "Please find as below after Alphabatically Sort\n",
      " ['ashish', 'divya', 'pratik', 'rahil', 'rihanshi', 'sejal']\n"
     ]
    }
   ],
   "source": [
    "#Sequence and sort words\n",
    "w=[]\n",
    "n=int(input('How many words you want to input to sort them out:'))\n",
    "for i in range(n):\n",
    "    k=input('Enter the %d word:'%(i+1))\n",
    "    w.append(k)\n",
    "    continue\n",
    "print('Your input is as below\\n',w)\n",
    "w.sort()\n",
    "print('Please find as below after Alphabatically Sort\\n',w)"
   ]
  },
  {
   "cell_type": "code",
   "execution_count": 18,
   "metadata": {},
   "outputs": [
    {
     "name": "stdout",
     "output_type": "stream",
     "text": [
      "How many numbers you want to enter:3\n",
      "Enter the number between 1000 and 3000:555\n",
      "Your Number is not between 1000 and 3000\n",
      "Please Try again\n",
      "Enter the number between 1000 and 3000:1020\n",
      "Enter the number between 1000 and 3000:2020\n",
      "Enter the number between 1000 and 3000:2050\n",
      "Numbers with even digits are as below\n",
      " [2020]\n"
     ]
    }
   ],
   "source": [
    "###### Even number between 1000 and 3000\n",
    "num=[]\n",
    "val=[]\n",
    "x=int(input('How many numbers you want to enter:'))\n",
    "y=1\n",
    "while y<x:\n",
    "    n=input('Enter the number between 1000 and 3000:')\n",
    "    if int(n)>=1000 and int(n)<=3000:\n",
    "        y=y+1\n",
    "        val=list(n)\n",
    "        k=1\n",
    "        for j in range(4):\n",
    "            if ((int(val[j]))%2)==0 or (int(val[j]))==0:\n",
    "                k=k+1\n",
    "                if k==4:\n",
    "                    num.append(int(n))\n",
    "                else:\n",
    "                    continue\n",
    "            else:\n",
    "                break\n",
    "    else:\n",
    "        print('Your Number is not between 1000 and 3000\\nPlease Try again')\n",
    "        y=y-1\n",
    "        continue\n",
    "print('Numbers with even digits are as below\\n',num)"
   ]
  },
  {
   "cell_type": "code",
   "execution_count": 20,
   "metadata": {},
   "outputs": [
    {
     "name": "stdout",
     "output_type": "stream",
     "text": [
      "Enter the string to find out count of letters and digits:Your Name is Rihanshi12345\n",
      "Lenth of string is: 26\n",
      "Your Name is Rihanshi12345\n",
      "DIGITS: 5\n",
      "LETTERS: 18\n"
     ]
    }
   ],
   "source": [
    "#Count of Letters and digits from input string\n",
    "str1=input('Enter the string to find out count of letters and digits:')\n",
    "print('Lenth of string is:',len(str1))\n",
    "DIGITS=0\n",
    "LETTERS=0\n",
    "for i in range(len(str1)):\n",
    "    if str1[i].isdigit()==True:\n",
    "        DIGITS+=1\n",
    "    elif str1[i].isalpha()==True:\n",
    "        LETTERS+=1\n",
    "    else:\n",
    "        continue\n",
    "print(str1)\n",
    "print('DIGITS:',DIGITS)\n",
    "print('LETTERS:',LETTERS)"
   ]
  },
  {
   "cell_type": "code",
   "execution_count": 2,
   "metadata": {},
   "outputs": [
    {
     "name": "stdout",
     "output_type": "stream",
     "text": [
      "Enter the number to check palindrome number:16462\n",
      "Nuber is not Palindrome\n"
     ]
    }
   ],
   "source": [
    "#to check palindrome number\n",
    "num=input('Enter the number to check palindrome number:')\n",
    "num1=list(num)\n",
    "num1.reverse()\n",
    "s=[str(i) for i in num1]\n",
    "num1=''.join(s)\n",
    "if num==num1:\n",
    "    print('Number is Palindrome')\n",
    "else:\n",
    "    print('Nuber is not Palindrome')"
   ]
  },
  {
   "cell_type": "code",
   "execution_count": 7,
   "metadata": {},
   "outputs": [
    {
     "name": "stdout",
     "output_type": "stream",
     "text": [
      "Enter the number to check palindrome number:Ashish\n",
      "Ashish\n",
      "ashish\n",
      "['h', 's', 'i', 'h', 's', 'a']\n"
     ]
    }
   ],
   "source": [
    "#Alternate way to check palindrome number\n",
    "num=input('Enter the number to check palindrome number:')\n",
    "print(num)\n",
    "mystr=num.casefold()\n",
    "print(mystr)\n",
    "rev1=list(reversed(mystr))\n",
    "print(rev1)"
   ]
  },
  {
   "cell_type": "code",
   "execution_count": 23,
   "metadata": {},
   "outputs": [
    {
     "name": "stdout",
     "output_type": "stream",
     "text": [
      "Enter the string to sort:Edureka rocks cinema zz yy\n"
     ]
    },
    {
     "data": {
      "text/plain": [
       "'Edureka cinema rocks yy zz'"
      ]
     },
     "execution_count": 23,
     "metadata": {},
     "output_type": "execute_result"
    }
   ],
   "source": [
    "#Additional to sort the string\n",
    "val=input('Enter the string to sort:')\n",
    "val=val.split()\n",
    "val=sorted(val)\n",
    "' '.join(val)"
   ]
  }
 ],
 "metadata": {
  "kernelspec": {
   "display_name": "Python 3",
   "language": "python",
   "name": "python3"
  },
  "language_info": {
   "codemirror_mode": {
    "name": "ipython",
    "version": 3
   },
   "file_extension": ".py",
   "mimetype": "text/x-python",
   "name": "python",
   "nbconvert_exporter": "python",
   "pygments_lexer": "ipython3",
   "version": "3.7.3"
  }
 },
 "nbformat": 4,
 "nbformat_minor": 2
}
